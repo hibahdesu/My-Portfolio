{
 "cells": [
  {
   "cell_type": "code",
   "execution_count": 1,
   "id": "79ab1fd5",
   "metadata": {
    "_cell_guid": "b1076dfc-b9ad-4769-8c92-a6c4dae69d19",
    "_uuid": "8f2839f25d086af736a60e9eeb907d3b93b6e0e5",
    "execution": {
     "iopub.execute_input": "2024-02-25T06:25:38.932495Z",
     "iopub.status.busy": "2024-02-25T06:25:38.931640Z",
     "iopub.status.idle": "2024-02-25T06:25:39.815537Z",
     "shell.execute_reply": "2024-02-25T06:25:39.814384Z"
    },
    "papermill": {
     "duration": 0.895844,
     "end_time": "2024-02-25T06:25:39.818245",
     "exception": false,
     "start_time": "2024-02-25T06:25:38.922401",
     "status": "completed"
    },
    "tags": []
   },
   "outputs": [
    {
     "name": "stdout",
     "output_type": "stream",
     "text": [
      "/kaggle/input/playground-series-s4e2/sample_submission.csv\n",
      "/kaggle/input/playground-series-s4e2/train.csv\n",
      "/kaggle/input/playground-series-s4e2/test.csv\n"
     ]
    }
   ],
   "source": [
    "# This Python 3 environment comes with many helpful analytics libraries installed\n",
    "# It is defined by the kaggle/python Docker image: https://github.com/kaggle/docker-python\n",
    "# For example, here's several helpful packages t|o load\n",
    "\n",
    "import numpy as np # linear algebra\n",
    "import pandas as pd # data processing, CSV file I/O (e.g. pd.read_csv)\n",
    "\n",
    "# Input data files are available in the read-only \"../input/\" directory\n",
    "# For example, running this (by clicking run or pressing Shift+Enter) will list all files under the input directory\n",
    "\n",
    "import os\n",
    "for dirname, _, filenames in os.walk('/kaggle/input'):\n",
    "    for filename in filenames:\n",
    "        print(os.path.join(dirname, filename))\n",
    "\n",
    "# You can write up to 20GB to the current directory (/kaggle/working/) that gets preserved as output when you create a version using \"Save & Run All\" \n",
    "# You can also write temporary files to /kaggle/temp/, but they won't be saved outside of the current session"
   ]
  },
  {
   "cell_type": "code",
   "execution_count": 2,
   "id": "c2099bf3",
   "metadata": {
    "execution": {
     "iopub.execute_input": "2024-02-25T06:25:39.834062Z",
     "iopub.status.busy": "2024-02-25T06:25:39.833307Z",
     "iopub.status.idle": "2024-02-25T06:25:44.622357Z",
     "shell.execute_reply": "2024-02-25T06:25:44.621186Z"
    },
    "papermill": {
     "duration": 4.799875,
     "end_time": "2024-02-25T06:25:44.625209",
     "exception": false,
     "start_time": "2024-02-25T06:25:39.825334",
     "status": "completed"
    },
    "tags": []
   },
   "outputs": [],
   "source": [
    "import pandas as pd\n",
    "import numpy as np\n",
    "from sklearn.ensemble import RandomForestClassifier\n",
    "from sklearn.model_selection import train_test_split\n",
    "from sklearn.preprocessing import LabelEncoder\n",
    "from sklearn.model_selection import RandomizedSearchCV\n",
    "from sklearn.metrics import classification_report\n",
    "import seaborn as sns\n",
    "import matplotlib.pyplot as plt\n",
    "import lightgbm as lgb\n",
    "# import xgboost as xgb\n",
    "from xgboost import XGBClassifier \n",
    "import warnings \n",
    "import optuna\n",
    "from sklearn.metrics import accuracy_score\n",
    "from sklearn.cluster import KMeans\n",
    "from sklearn.pipeline import Pipeline\n",
    "\n",
    "warnings.filterwarnings('ignore')\n",
    "%matplotlib inline"
   ]
  },
  {
   "cell_type": "code",
   "execution_count": 3,
   "id": "7a599b50",
   "metadata": {
    "execution": {
     "iopub.execute_input": "2024-02-25T06:25:44.640891Z",
     "iopub.status.busy": "2024-02-25T06:25:44.640123Z",
     "iopub.status.idle": "2024-02-25T06:25:44.826853Z",
     "shell.execute_reply": "2024-02-25T06:25:44.825636Z"
    },
    "papermill": {
     "duration": 0.197484,
     "end_time": "2024-02-25T06:25:44.829526",
     "exception": false,
     "start_time": "2024-02-25T06:25:44.632042",
     "status": "completed"
    },
    "tags": []
   },
   "outputs": [],
   "source": [
    "sample_submission=pd.read_csv('/kaggle/input/playground-series-s4e2/sample_submission.csv')\n",
    "test=pd.read_csv('/kaggle/input/playground-series-s4e2/test.csv')\n",
    "train=pd.read_csv('/kaggle/input/playground-series-s4e2/train.csv')"
   ]
  },
  {
   "cell_type": "code",
   "execution_count": 4,
   "id": "e66afbba",
   "metadata": {
    "execution": {
     "iopub.execute_input": "2024-02-25T06:25:44.845159Z",
     "iopub.status.busy": "2024-02-25T06:25:44.844118Z",
     "iopub.status.idle": "2024-02-25T06:25:44.869908Z",
     "shell.execute_reply": "2024-02-25T06:25:44.869054Z"
    },
    "papermill": {
     "duration": 0.035946,
     "end_time": "2024-02-25T06:25:44.872179",
     "exception": false,
     "start_time": "2024-02-25T06:25:44.836233",
     "status": "completed"
    },
    "tags": []
   },
   "outputs": [
    {
     "data": {
      "text/html": [
       "<div>\n",
       "<style scoped>\n",
       "    .dataframe tbody tr th:only-of-type {\n",
       "        vertical-align: middle;\n",
       "    }\n",
       "\n",
       "    .dataframe tbody tr th {\n",
       "        vertical-align: top;\n",
       "    }\n",
       "\n",
       "    .dataframe thead th {\n",
       "        text-align: right;\n",
       "    }\n",
       "</style>\n",
       "<table border=\"1\" class=\"dataframe\">\n",
       "  <thead>\n",
       "    <tr style=\"text-align: right;\">\n",
       "      <th></th>\n",
       "      <th>id</th>\n",
       "      <th>Gender</th>\n",
       "      <th>Age</th>\n",
       "      <th>Height</th>\n",
       "      <th>Weight</th>\n",
       "      <th>family_history_with_overweight</th>\n",
       "      <th>FAVC</th>\n",
       "      <th>FCVC</th>\n",
       "      <th>NCP</th>\n",
       "      <th>CAEC</th>\n",
       "      <th>SMOKE</th>\n",
       "      <th>CH2O</th>\n",
       "      <th>SCC</th>\n",
       "      <th>FAF</th>\n",
       "      <th>TUE</th>\n",
       "      <th>CALC</th>\n",
       "      <th>MTRANS</th>\n",
       "      <th>NObeyesdad</th>\n",
       "    </tr>\n",
       "  </thead>\n",
       "  <tbody>\n",
       "    <tr>\n",
       "      <th>0</th>\n",
       "      <td>0</td>\n",
       "      <td>Male</td>\n",
       "      <td>24.443011</td>\n",
       "      <td>1.699998</td>\n",
       "      <td>81.669950</td>\n",
       "      <td>yes</td>\n",
       "      <td>yes</td>\n",
       "      <td>2.000000</td>\n",
       "      <td>2.983297</td>\n",
       "      <td>Sometimes</td>\n",
       "      <td>no</td>\n",
       "      <td>2.763573</td>\n",
       "      <td>no</td>\n",
       "      <td>0.000000</td>\n",
       "      <td>0.976473</td>\n",
       "      <td>Sometimes</td>\n",
       "      <td>Public_Transportation</td>\n",
       "      <td>Overweight_Level_II</td>\n",
       "    </tr>\n",
       "    <tr>\n",
       "      <th>1</th>\n",
       "      <td>1</td>\n",
       "      <td>Female</td>\n",
       "      <td>18.000000</td>\n",
       "      <td>1.560000</td>\n",
       "      <td>57.000000</td>\n",
       "      <td>yes</td>\n",
       "      <td>yes</td>\n",
       "      <td>2.000000</td>\n",
       "      <td>3.000000</td>\n",
       "      <td>Frequently</td>\n",
       "      <td>no</td>\n",
       "      <td>2.000000</td>\n",
       "      <td>no</td>\n",
       "      <td>1.000000</td>\n",
       "      <td>1.000000</td>\n",
       "      <td>no</td>\n",
       "      <td>Automobile</td>\n",
       "      <td>Normal_Weight</td>\n",
       "    </tr>\n",
       "    <tr>\n",
       "      <th>2</th>\n",
       "      <td>2</td>\n",
       "      <td>Female</td>\n",
       "      <td>18.000000</td>\n",
       "      <td>1.711460</td>\n",
       "      <td>50.165754</td>\n",
       "      <td>yes</td>\n",
       "      <td>yes</td>\n",
       "      <td>1.880534</td>\n",
       "      <td>1.411685</td>\n",
       "      <td>Sometimes</td>\n",
       "      <td>no</td>\n",
       "      <td>1.910378</td>\n",
       "      <td>no</td>\n",
       "      <td>0.866045</td>\n",
       "      <td>1.673584</td>\n",
       "      <td>no</td>\n",
       "      <td>Public_Transportation</td>\n",
       "      <td>Insufficient_Weight</td>\n",
       "    </tr>\n",
       "    <tr>\n",
       "      <th>3</th>\n",
       "      <td>3</td>\n",
       "      <td>Female</td>\n",
       "      <td>20.952737</td>\n",
       "      <td>1.710730</td>\n",
       "      <td>131.274851</td>\n",
       "      <td>yes</td>\n",
       "      <td>yes</td>\n",
       "      <td>3.000000</td>\n",
       "      <td>3.000000</td>\n",
       "      <td>Sometimes</td>\n",
       "      <td>no</td>\n",
       "      <td>1.674061</td>\n",
       "      <td>no</td>\n",
       "      <td>1.467863</td>\n",
       "      <td>0.780199</td>\n",
       "      <td>Sometimes</td>\n",
       "      <td>Public_Transportation</td>\n",
       "      <td>Obesity_Type_III</td>\n",
       "    </tr>\n",
       "    <tr>\n",
       "      <th>4</th>\n",
       "      <td>4</td>\n",
       "      <td>Male</td>\n",
       "      <td>31.641081</td>\n",
       "      <td>1.914186</td>\n",
       "      <td>93.798055</td>\n",
       "      <td>yes</td>\n",
       "      <td>yes</td>\n",
       "      <td>2.679664</td>\n",
       "      <td>1.971472</td>\n",
       "      <td>Sometimes</td>\n",
       "      <td>no</td>\n",
       "      <td>1.979848</td>\n",
       "      <td>no</td>\n",
       "      <td>1.967973</td>\n",
       "      <td>0.931721</td>\n",
       "      <td>Sometimes</td>\n",
       "      <td>Public_Transportation</td>\n",
       "      <td>Overweight_Level_II</td>\n",
       "    </tr>\n",
       "  </tbody>\n",
       "</table>\n",
       "</div>"
      ],
      "text/plain": [
       "   id  Gender        Age    Height      Weight family_history_with_overweight  \\\n",
       "0   0    Male  24.443011  1.699998   81.669950                            yes   \n",
       "1   1  Female  18.000000  1.560000   57.000000                            yes   \n",
       "2   2  Female  18.000000  1.711460   50.165754                            yes   \n",
       "3   3  Female  20.952737  1.710730  131.274851                            yes   \n",
       "4   4    Male  31.641081  1.914186   93.798055                            yes   \n",
       "\n",
       "  FAVC      FCVC       NCP        CAEC SMOKE      CH2O SCC       FAF  \\\n",
       "0  yes  2.000000  2.983297   Sometimes    no  2.763573  no  0.000000   \n",
       "1  yes  2.000000  3.000000  Frequently    no  2.000000  no  1.000000   \n",
       "2  yes  1.880534  1.411685   Sometimes    no  1.910378  no  0.866045   \n",
       "3  yes  3.000000  3.000000   Sometimes    no  1.674061  no  1.467863   \n",
       "4  yes  2.679664  1.971472   Sometimes    no  1.979848  no  1.967973   \n",
       "\n",
       "        TUE       CALC                 MTRANS           NObeyesdad  \n",
       "0  0.976473  Sometimes  Public_Transportation  Overweight_Level_II  \n",
       "1  1.000000         no             Automobile        Normal_Weight  \n",
       "2  1.673584         no  Public_Transportation  Insufficient_Weight  \n",
       "3  0.780199  Sometimes  Public_Transportation     Obesity_Type_III  \n",
       "4  0.931721  Sometimes  Public_Transportation  Overweight_Level_II  "
      ]
     },
     "execution_count": 4,
     "metadata": {},
     "output_type": "execute_result"
    }
   ],
   "source": [
    "train.head()"
   ]
  },
  {
   "cell_type": "code",
   "execution_count": 5,
   "id": "0a34ea1f",
   "metadata": {
    "execution": {
     "iopub.execute_input": "2024-02-25T06:25:44.888008Z",
     "iopub.status.busy": "2024-02-25T06:25:44.887167Z",
     "iopub.status.idle": "2024-02-25T06:25:44.893655Z",
     "shell.execute_reply": "2024-02-25T06:25:44.892789Z"
    },
    "papermill": {
     "duration": 0.016426,
     "end_time": "2024-02-25T06:25:44.895579",
     "exception": false,
     "start_time": "2024-02-25T06:25:44.879153",
     "status": "completed"
    },
    "tags": []
   },
   "outputs": [
    {
     "data": {
      "text/plain": [
       "Index(['id', 'Gender', 'Age', 'Height', 'Weight',\n",
       "       'family_history_with_overweight', 'FAVC', 'FCVC', 'NCP', 'CAEC',\n",
       "       'SMOKE', 'CH2O', 'SCC', 'FAF', 'TUE', 'CALC', 'MTRANS', 'NObeyesdad'],\n",
       "      dtype='object')"
      ]
     },
     "execution_count": 5,
     "metadata": {},
     "output_type": "execute_result"
    }
   ],
   "source": [
    "train.columns"
   ]
  },
  {
   "cell_type": "code",
   "execution_count": 6,
   "id": "53890747",
   "metadata": {
    "execution": {
     "iopub.execute_input": "2024-02-25T06:25:44.911095Z",
     "iopub.status.busy": "2024-02-25T06:25:44.910491Z",
     "iopub.status.idle": "2024-02-25T06:25:44.917058Z",
     "shell.execute_reply": "2024-02-25T06:25:44.916014Z"
    },
    "papermill": {
     "duration": 0.016601,
     "end_time": "2024-02-25T06:25:44.919167",
     "exception": false,
     "start_time": "2024-02-25T06:25:44.902566",
     "status": "completed"
    },
    "tags": []
   },
   "outputs": [
    {
     "data": {
      "text/plain": [
       "(20758, 18)"
      ]
     },
     "execution_count": 6,
     "metadata": {},
     "output_type": "execute_result"
    }
   ],
   "source": [
    "train.shape"
   ]
  },
  {
   "cell_type": "code",
   "execution_count": 7,
   "id": "f422026f",
   "metadata": {
    "execution": {
     "iopub.execute_input": "2024-02-25T06:25:44.935503Z",
     "iopub.status.busy": "2024-02-25T06:25:44.934533Z",
     "iopub.status.idle": "2024-02-25T06:25:44.953417Z",
     "shell.execute_reply": "2024-02-25T06:25:44.952406Z"
    },
    "papermill": {
     "duration": 0.029701,
     "end_time": "2024-02-25T06:25:44.955896",
     "exception": false,
     "start_time": "2024-02-25T06:25:44.926195",
     "status": "completed"
    },
    "tags": []
   },
   "outputs": [
    {
     "data": {
      "text/html": [
       "<div>\n",
       "<style scoped>\n",
       "    .dataframe tbody tr th:only-of-type {\n",
       "        vertical-align: middle;\n",
       "    }\n",
       "\n",
       "    .dataframe tbody tr th {\n",
       "        vertical-align: top;\n",
       "    }\n",
       "\n",
       "    .dataframe thead th {\n",
       "        text-align: right;\n",
       "    }\n",
       "</style>\n",
       "<table border=\"1\" class=\"dataframe\">\n",
       "  <thead>\n",
       "    <tr style=\"text-align: right;\">\n",
       "      <th></th>\n",
       "      <th>id</th>\n",
       "      <th>Gender</th>\n",
       "      <th>Age</th>\n",
       "      <th>Height</th>\n",
       "      <th>Weight</th>\n",
       "      <th>family_history_with_overweight</th>\n",
       "      <th>FAVC</th>\n",
       "      <th>FCVC</th>\n",
       "      <th>NCP</th>\n",
       "      <th>CAEC</th>\n",
       "      <th>SMOKE</th>\n",
       "      <th>CH2O</th>\n",
       "      <th>SCC</th>\n",
       "      <th>FAF</th>\n",
       "      <th>TUE</th>\n",
       "      <th>CALC</th>\n",
       "      <th>MTRANS</th>\n",
       "    </tr>\n",
       "  </thead>\n",
       "  <tbody>\n",
       "    <tr>\n",
       "      <th>0</th>\n",
       "      <td>20758</td>\n",
       "      <td>Male</td>\n",
       "      <td>26.899886</td>\n",
       "      <td>1.848294</td>\n",
       "      <td>120.644178</td>\n",
       "      <td>yes</td>\n",
       "      <td>yes</td>\n",
       "      <td>2.938616</td>\n",
       "      <td>3.000000</td>\n",
       "      <td>Sometimes</td>\n",
       "      <td>no</td>\n",
       "      <td>2.825629</td>\n",
       "      <td>no</td>\n",
       "      <td>0.855400</td>\n",
       "      <td>0.000000</td>\n",
       "      <td>Sometimes</td>\n",
       "      <td>Public_Transportation</td>\n",
       "    </tr>\n",
       "    <tr>\n",
       "      <th>1</th>\n",
       "      <td>20759</td>\n",
       "      <td>Female</td>\n",
       "      <td>21.000000</td>\n",
       "      <td>1.600000</td>\n",
       "      <td>66.000000</td>\n",
       "      <td>yes</td>\n",
       "      <td>yes</td>\n",
       "      <td>2.000000</td>\n",
       "      <td>1.000000</td>\n",
       "      <td>Sometimes</td>\n",
       "      <td>no</td>\n",
       "      <td>3.000000</td>\n",
       "      <td>no</td>\n",
       "      <td>1.000000</td>\n",
       "      <td>0.000000</td>\n",
       "      <td>Sometimes</td>\n",
       "      <td>Public_Transportation</td>\n",
       "    </tr>\n",
       "    <tr>\n",
       "      <th>2</th>\n",
       "      <td>20760</td>\n",
       "      <td>Female</td>\n",
       "      <td>26.000000</td>\n",
       "      <td>1.643355</td>\n",
       "      <td>111.600553</td>\n",
       "      <td>yes</td>\n",
       "      <td>yes</td>\n",
       "      <td>3.000000</td>\n",
       "      <td>3.000000</td>\n",
       "      <td>Sometimes</td>\n",
       "      <td>no</td>\n",
       "      <td>2.621877</td>\n",
       "      <td>no</td>\n",
       "      <td>0.000000</td>\n",
       "      <td>0.250502</td>\n",
       "      <td>Sometimes</td>\n",
       "      <td>Public_Transportation</td>\n",
       "    </tr>\n",
       "    <tr>\n",
       "      <th>3</th>\n",
       "      <td>20761</td>\n",
       "      <td>Male</td>\n",
       "      <td>20.979254</td>\n",
       "      <td>1.553127</td>\n",
       "      <td>103.669116</td>\n",
       "      <td>yes</td>\n",
       "      <td>yes</td>\n",
       "      <td>2.000000</td>\n",
       "      <td>2.977909</td>\n",
       "      <td>Sometimes</td>\n",
       "      <td>no</td>\n",
       "      <td>2.786417</td>\n",
       "      <td>no</td>\n",
       "      <td>0.094851</td>\n",
       "      <td>0.000000</td>\n",
       "      <td>Sometimes</td>\n",
       "      <td>Public_Transportation</td>\n",
       "    </tr>\n",
       "    <tr>\n",
       "      <th>4</th>\n",
       "      <td>20762</td>\n",
       "      <td>Female</td>\n",
       "      <td>26.000000</td>\n",
       "      <td>1.627396</td>\n",
       "      <td>104.835346</td>\n",
       "      <td>yes</td>\n",
       "      <td>yes</td>\n",
       "      <td>3.000000</td>\n",
       "      <td>3.000000</td>\n",
       "      <td>Sometimes</td>\n",
       "      <td>no</td>\n",
       "      <td>2.653531</td>\n",
       "      <td>no</td>\n",
       "      <td>0.000000</td>\n",
       "      <td>0.741069</td>\n",
       "      <td>Sometimes</td>\n",
       "      <td>Public_Transportation</td>\n",
       "    </tr>\n",
       "  </tbody>\n",
       "</table>\n",
       "</div>"
      ],
      "text/plain": [
       "      id  Gender        Age    Height      Weight  \\\n",
       "0  20758    Male  26.899886  1.848294  120.644178   \n",
       "1  20759  Female  21.000000  1.600000   66.000000   \n",
       "2  20760  Female  26.000000  1.643355  111.600553   \n",
       "3  20761    Male  20.979254  1.553127  103.669116   \n",
       "4  20762  Female  26.000000  1.627396  104.835346   \n",
       "\n",
       "  family_history_with_overweight FAVC      FCVC       NCP       CAEC SMOKE  \\\n",
       "0                            yes  yes  2.938616  3.000000  Sometimes    no   \n",
       "1                            yes  yes  2.000000  1.000000  Sometimes    no   \n",
       "2                            yes  yes  3.000000  3.000000  Sometimes    no   \n",
       "3                            yes  yes  2.000000  2.977909  Sometimes    no   \n",
       "4                            yes  yes  3.000000  3.000000  Sometimes    no   \n",
       "\n",
       "       CH2O SCC       FAF       TUE       CALC                 MTRANS  \n",
       "0  2.825629  no  0.855400  0.000000  Sometimes  Public_Transportation  \n",
       "1  3.000000  no  1.000000  0.000000  Sometimes  Public_Transportation  \n",
       "2  2.621877  no  0.000000  0.250502  Sometimes  Public_Transportation  \n",
       "3  2.786417  no  0.094851  0.000000  Sometimes  Public_Transportation  \n",
       "4  2.653531  no  0.000000  0.741069  Sometimes  Public_Transportation  "
      ]
     },
     "execution_count": 7,
     "metadata": {},
     "output_type": "execute_result"
    }
   ],
   "source": [
    "test.head()"
   ]
  },
  {
   "cell_type": "code",
   "execution_count": 8,
   "id": "85436497",
   "metadata": {
    "execution": {
     "iopub.execute_input": "2024-02-25T06:25:44.973622Z",
     "iopub.status.busy": "2024-02-25T06:25:44.972901Z",
     "iopub.status.idle": "2024-02-25T06:25:44.979590Z",
     "shell.execute_reply": "2024-02-25T06:25:44.978594Z"
    },
    "papermill": {
     "duration": 0.018499,
     "end_time": "2024-02-25T06:25:44.981778",
     "exception": false,
     "start_time": "2024-02-25T06:25:44.963279",
     "status": "completed"
    },
    "tags": []
   },
   "outputs": [
    {
     "data": {
      "text/plain": [
       "Index(['id', 'Gender', 'Age', 'Height', 'Weight',\n",
       "       'family_history_with_overweight', 'FAVC', 'FCVC', 'NCP', 'CAEC',\n",
       "       'SMOKE', 'CH2O', 'SCC', 'FAF', 'TUE', 'CALC', 'MTRANS'],\n",
       "      dtype='object')"
      ]
     },
     "execution_count": 8,
     "metadata": {},
     "output_type": "execute_result"
    }
   ],
   "source": [
    "test.columns"
   ]
  },
  {
   "cell_type": "code",
   "execution_count": 9,
   "id": "7b3d6dcd",
   "metadata": {
    "execution": {
     "iopub.execute_input": "2024-02-25T06:25:44.998908Z",
     "iopub.status.busy": "2024-02-25T06:25:44.997976Z",
     "iopub.status.idle": "2024-02-25T06:25:45.004837Z",
     "shell.execute_reply": "2024-02-25T06:25:45.003831Z"
    },
    "papermill": {
     "duration": 0.017641,
     "end_time": "2024-02-25T06:25:45.006937",
     "exception": false,
     "start_time": "2024-02-25T06:25:44.989296",
     "status": "completed"
    },
    "tags": []
   },
   "outputs": [
    {
     "data": {
      "text/plain": [
       "(13840, 17)"
      ]
     },
     "execution_count": 9,
     "metadata": {},
     "output_type": "execute_result"
    }
   ],
   "source": [
    "test.shape"
   ]
  },
  {
   "cell_type": "code",
   "execution_count": 10,
   "id": "1d602da5",
   "metadata": {
    "execution": {
     "iopub.execute_input": "2024-02-25T06:25:45.023870Z",
     "iopub.status.busy": "2024-02-25T06:25:45.023464Z",
     "iopub.status.idle": "2024-02-25T06:25:45.032914Z",
     "shell.execute_reply": "2024-02-25T06:25:45.031838Z"
    },
    "papermill": {
     "duration": 0.020079,
     "end_time": "2024-02-25T06:25:45.034767",
     "exception": false,
     "start_time": "2024-02-25T06:25:45.014688",
     "status": "completed"
    },
    "tags": []
   },
   "outputs": [
    {
     "data": {
      "text/plain": [
       "['Gender',\n",
       " 'family_history_with_overweight',\n",
       " 'FAVC',\n",
       " 'CAEC',\n",
       " 'SMOKE',\n",
       " 'SCC',\n",
       " 'CALC',\n",
       " 'MTRANS']"
      ]
     },
     "execution_count": 10,
     "metadata": {},
     "output_type": "execute_result"
    }
   ],
   "source": [
    "cat_cols = train.select_dtypes(include=['object']).columns.tolist()\n",
    "cat_cols.remove('NObeyesdad')\n",
    "cat_cols"
   ]
  },
  {
   "cell_type": "code",
   "execution_count": 11,
   "id": "ce44a984",
   "metadata": {
    "execution": {
     "iopub.execute_input": "2024-02-25T06:25:45.051936Z",
     "iopub.status.busy": "2024-02-25T06:25:45.051574Z",
     "iopub.status.idle": "2024-02-25T06:25:45.058903Z",
     "shell.execute_reply": "2024-02-25T06:25:45.057920Z"
    },
    "papermill": {
     "duration": 0.018478,
     "end_time": "2024-02-25T06:25:45.060939",
     "exception": false,
     "start_time": "2024-02-25T06:25:45.042461",
     "status": "completed"
    },
    "tags": []
   },
   "outputs": [
    {
     "data": {
      "text/plain": [
       "['Age', 'Height', 'Weight', 'FCVC', 'NCP', 'CH2O', 'FAF', 'TUE']"
      ]
     },
     "execution_count": 11,
     "metadata": {},
     "output_type": "execute_result"
    }
   ],
   "source": [
    "num_cols = train.select_dtypes(include=['int64', 'float64']).columns.tolist()\n",
    "num_cols.remove('id') \n",
    "num_cols"
   ]
  },
  {
   "cell_type": "code",
   "execution_count": 12,
   "id": "19f41e78",
   "metadata": {
    "execution": {
     "iopub.execute_input": "2024-02-25T06:25:45.077989Z",
     "iopub.status.busy": "2024-02-25T06:25:45.077620Z",
     "iopub.status.idle": "2024-02-25T06:25:45.088113Z",
     "shell.execute_reply": "2024-02-25T06:25:45.087006Z"
    },
    "papermill": {
     "duration": 0.021667,
     "end_time": "2024-02-25T06:25:45.090357",
     "exception": false,
     "start_time": "2024-02-25T06:25:45.068690",
     "status": "completed"
    },
    "tags": []
   },
   "outputs": [],
   "source": [
    "from sklearn.compose import make_column_transformer\n",
    "from sklearn.preprocessing import OneHotEncoder, MinMaxScaler, StandardScaler\n",
    "\n",
    "column_trans = make_column_transformer(\n",
    "    (OneHotEncoder(handle_unknown=\"ignore\", sparse_output=False), cat_cols),\n",
    "    remainder= 'passthrough',\n",
    "    verbose_feature_names_out=False,\n",
    ")"
   ]
  },
  {
   "cell_type": "code",
   "execution_count": 13,
   "id": "9c2d1d83",
   "metadata": {
    "execution": {
     "iopub.execute_input": "2024-02-25T06:25:45.107837Z",
     "iopub.status.busy": "2024-02-25T06:25:45.107443Z",
     "iopub.status.idle": "2024-02-25T06:25:45.112000Z",
     "shell.execute_reply": "2024-02-25T06:25:45.110920Z"
    },
    "papermill": {
     "duration": 0.015442,
     "end_time": "2024-02-25T06:25:45.113933",
     "exception": false,
     "start_time": "2024-02-25T06:25:45.098491",
     "status": "completed"
    },
    "tags": []
   },
   "outputs": [],
   "source": [
    "scaler = StandardScaler()"
   ]
  },
  {
   "cell_type": "code",
   "execution_count": 14,
   "id": "f96fffef",
   "metadata": {
    "execution": {
     "iopub.execute_input": "2024-02-25T06:25:45.131394Z",
     "iopub.status.busy": "2024-02-25T06:25:45.130723Z",
     "iopub.status.idle": "2024-02-25T06:25:45.175855Z",
     "shell.execute_reply": "2024-02-25T06:25:45.174972Z"
    },
    "papermill": {
     "duration": 0.056537,
     "end_time": "2024-02-25T06:25:45.178197",
     "exception": false,
     "start_time": "2024-02-25T06:25:45.121660",
     "status": "completed"
    },
    "tags": []
   },
   "outputs": [],
   "source": [
    "X = train[num_cols + cat_cols]\n",
    "y = train['NObeyesdad']\n",
    "X_train, X_val, y_train, y_val = train_test_split(X, y, test_size=0.20,stratify=y, random_state=42)"
   ]
  },
  {
   "cell_type": "code",
   "execution_count": 15,
   "id": "a9d9a0a0",
   "metadata": {
    "execution": {
     "iopub.execute_input": "2024-02-25T06:25:45.195849Z",
     "iopub.status.busy": "2024-02-25T06:25:45.195408Z",
     "iopub.status.idle": "2024-02-25T06:25:45.214180Z",
     "shell.execute_reply": "2024-02-25T06:25:45.213106Z"
    },
    "papermill": {
     "duration": 0.030194,
     "end_time": "2024-02-25T06:25:45.216309",
     "exception": false,
     "start_time": "2024-02-25T06:25:45.186115",
     "status": "completed"
    },
    "tags": []
   },
   "outputs": [
    {
     "data": {
      "text/html": [
       "<div>\n",
       "<style scoped>\n",
       "    .dataframe tbody tr th:only-of-type {\n",
       "        vertical-align: middle;\n",
       "    }\n",
       "\n",
       "    .dataframe tbody tr th {\n",
       "        vertical-align: top;\n",
       "    }\n",
       "\n",
       "    .dataframe thead th {\n",
       "        text-align: right;\n",
       "    }\n",
       "</style>\n",
       "<table border=\"1\" class=\"dataframe\">\n",
       "  <thead>\n",
       "    <tr style=\"text-align: right;\">\n",
       "      <th></th>\n",
       "      <th>Age</th>\n",
       "      <th>Height</th>\n",
       "      <th>Weight</th>\n",
       "      <th>FCVC</th>\n",
       "      <th>NCP</th>\n",
       "      <th>CH2O</th>\n",
       "      <th>FAF</th>\n",
       "      <th>TUE</th>\n",
       "      <th>Gender</th>\n",
       "      <th>family_history_with_overweight</th>\n",
       "      <th>FAVC</th>\n",
       "      <th>CAEC</th>\n",
       "      <th>SMOKE</th>\n",
       "      <th>SCC</th>\n",
       "      <th>CALC</th>\n",
       "      <th>MTRANS</th>\n",
       "    </tr>\n",
       "  </thead>\n",
       "  <tbody>\n",
       "    <tr>\n",
       "      <th>0</th>\n",
       "      <td>24.443011</td>\n",
       "      <td>1.699998</td>\n",
       "      <td>81.669950</td>\n",
       "      <td>2.000000</td>\n",
       "      <td>2.983297</td>\n",
       "      <td>2.763573</td>\n",
       "      <td>0.000000</td>\n",
       "      <td>0.976473</td>\n",
       "      <td>Male</td>\n",
       "      <td>yes</td>\n",
       "      <td>yes</td>\n",
       "      <td>Sometimes</td>\n",
       "      <td>no</td>\n",
       "      <td>no</td>\n",
       "      <td>Sometimes</td>\n",
       "      <td>Public_Transportation</td>\n",
       "    </tr>\n",
       "    <tr>\n",
       "      <th>1</th>\n",
       "      <td>18.000000</td>\n",
       "      <td>1.560000</td>\n",
       "      <td>57.000000</td>\n",
       "      <td>2.000000</td>\n",
       "      <td>3.000000</td>\n",
       "      <td>2.000000</td>\n",
       "      <td>1.000000</td>\n",
       "      <td>1.000000</td>\n",
       "      <td>Female</td>\n",
       "      <td>yes</td>\n",
       "      <td>yes</td>\n",
       "      <td>Frequently</td>\n",
       "      <td>no</td>\n",
       "      <td>no</td>\n",
       "      <td>no</td>\n",
       "      <td>Automobile</td>\n",
       "    </tr>\n",
       "    <tr>\n",
       "      <th>2</th>\n",
       "      <td>18.000000</td>\n",
       "      <td>1.711460</td>\n",
       "      <td>50.165754</td>\n",
       "      <td>1.880534</td>\n",
       "      <td>1.411685</td>\n",
       "      <td>1.910378</td>\n",
       "      <td>0.866045</td>\n",
       "      <td>1.673584</td>\n",
       "      <td>Female</td>\n",
       "      <td>yes</td>\n",
       "      <td>yes</td>\n",
       "      <td>Sometimes</td>\n",
       "      <td>no</td>\n",
       "      <td>no</td>\n",
       "      <td>no</td>\n",
       "      <td>Public_Transportation</td>\n",
       "    </tr>\n",
       "    <tr>\n",
       "      <th>3</th>\n",
       "      <td>20.952737</td>\n",
       "      <td>1.710730</td>\n",
       "      <td>131.274851</td>\n",
       "      <td>3.000000</td>\n",
       "      <td>3.000000</td>\n",
       "      <td>1.674061</td>\n",
       "      <td>1.467863</td>\n",
       "      <td>0.780199</td>\n",
       "      <td>Female</td>\n",
       "      <td>yes</td>\n",
       "      <td>yes</td>\n",
       "      <td>Sometimes</td>\n",
       "      <td>no</td>\n",
       "      <td>no</td>\n",
       "      <td>Sometimes</td>\n",
       "      <td>Public_Transportation</td>\n",
       "    </tr>\n",
       "    <tr>\n",
       "      <th>4</th>\n",
       "      <td>31.641081</td>\n",
       "      <td>1.914186</td>\n",
       "      <td>93.798055</td>\n",
       "      <td>2.679664</td>\n",
       "      <td>1.971472</td>\n",
       "      <td>1.979848</td>\n",
       "      <td>1.967973</td>\n",
       "      <td>0.931721</td>\n",
       "      <td>Male</td>\n",
       "      <td>yes</td>\n",
       "      <td>yes</td>\n",
       "      <td>Sometimes</td>\n",
       "      <td>no</td>\n",
       "      <td>no</td>\n",
       "      <td>Sometimes</td>\n",
       "      <td>Public_Transportation</td>\n",
       "    </tr>\n",
       "  </tbody>\n",
       "</table>\n",
       "</div>"
      ],
      "text/plain": [
       "         Age    Height      Weight      FCVC       NCP      CH2O       FAF  \\\n",
       "0  24.443011  1.699998   81.669950  2.000000  2.983297  2.763573  0.000000   \n",
       "1  18.000000  1.560000   57.000000  2.000000  3.000000  2.000000  1.000000   \n",
       "2  18.000000  1.711460   50.165754  1.880534  1.411685  1.910378  0.866045   \n",
       "3  20.952737  1.710730  131.274851  3.000000  3.000000  1.674061  1.467863   \n",
       "4  31.641081  1.914186   93.798055  2.679664  1.971472  1.979848  1.967973   \n",
       "\n",
       "        TUE  Gender family_history_with_overweight FAVC        CAEC SMOKE SCC  \\\n",
       "0  0.976473    Male                            yes  yes   Sometimes    no  no   \n",
       "1  1.000000  Female                            yes  yes  Frequently    no  no   \n",
       "2  1.673584  Female                            yes  yes   Sometimes    no  no   \n",
       "3  0.780199  Female                            yes  yes   Sometimes    no  no   \n",
       "4  0.931721    Male                            yes  yes   Sometimes    no  no   \n",
       "\n",
       "        CALC                 MTRANS  \n",
       "0  Sometimes  Public_Transportation  \n",
       "1         no             Automobile  \n",
       "2         no  Public_Transportation  \n",
       "3  Sometimes  Public_Transportation  \n",
       "4  Sometimes  Public_Transportation  "
      ]
     },
     "execution_count": 15,
     "metadata": {},
     "output_type": "execute_result"
    }
   ],
   "source": [
    "X.head()"
   ]
  },
  {
   "cell_type": "code",
   "execution_count": 16,
   "id": "55766ddb",
   "metadata": {
    "execution": {
     "iopub.execute_input": "2024-02-25T06:25:45.235173Z",
     "iopub.status.busy": "2024-02-25T06:25:45.234456Z",
     "iopub.status.idle": "2024-02-25T06:26:12.215852Z",
     "shell.execute_reply": "2024-02-25T06:26:12.214658Z"
    },
    "papermill": {
     "duration": 26.994148,
     "end_time": "2024-02-25T06:26:12.218749",
     "exception": false,
     "start_time": "2024-02-25T06:25:45.224601",
     "status": "completed"
    },
    "tags": []
   },
   "outputs": [
    {
     "data": {
      "text/html": [
       "<style>#sk-container-id-1 {color: black;background-color: white;}#sk-container-id-1 pre{padding: 0;}#sk-container-id-1 div.sk-toggleable {background-color: white;}#sk-container-id-1 label.sk-toggleable__label {cursor: pointer;display: block;width: 100%;margin-bottom: 0;padding: 0.3em;box-sizing: border-box;text-align: center;}#sk-container-id-1 label.sk-toggleable__label-arrow:before {content: \"▸\";float: left;margin-right: 0.25em;color: #696969;}#sk-container-id-1 label.sk-toggleable__label-arrow:hover:before {color: black;}#sk-container-id-1 div.sk-estimator:hover label.sk-toggleable__label-arrow:before {color: black;}#sk-container-id-1 div.sk-toggleable__content {max-height: 0;max-width: 0;overflow: hidden;text-align: left;background-color: #f0f8ff;}#sk-container-id-1 div.sk-toggleable__content pre {margin: 0.2em;color: black;border-radius: 0.25em;background-color: #f0f8ff;}#sk-container-id-1 input.sk-toggleable__control:checked~div.sk-toggleable__content {max-height: 200px;max-width: 100%;overflow: auto;}#sk-container-id-1 input.sk-toggleable__control:checked~label.sk-toggleable__label-arrow:before {content: \"▾\";}#sk-container-id-1 div.sk-estimator input.sk-toggleable__control:checked~label.sk-toggleable__label {background-color: #d4ebff;}#sk-container-id-1 div.sk-label input.sk-toggleable__control:checked~label.sk-toggleable__label {background-color: #d4ebff;}#sk-container-id-1 input.sk-hidden--visually {border: 0;clip: rect(1px 1px 1px 1px);clip: rect(1px, 1px, 1px, 1px);height: 1px;margin: -1px;overflow: hidden;padding: 0;position: absolute;width: 1px;}#sk-container-id-1 div.sk-estimator {font-family: monospace;background-color: #f0f8ff;border: 1px dotted black;border-radius: 0.25em;box-sizing: border-box;margin-bottom: 0.5em;}#sk-container-id-1 div.sk-estimator:hover {background-color: #d4ebff;}#sk-container-id-1 div.sk-parallel-item::after {content: \"\";width: 100%;border-bottom: 1px solid gray;flex-grow: 1;}#sk-container-id-1 div.sk-label:hover label.sk-toggleable__label {background-color: #d4ebff;}#sk-container-id-1 div.sk-serial::before {content: \"\";position: absolute;border-left: 1px solid gray;box-sizing: border-box;top: 0;bottom: 0;left: 50%;z-index: 0;}#sk-container-id-1 div.sk-serial {display: flex;flex-direction: column;align-items: center;background-color: white;padding-right: 0.2em;padding-left: 0.2em;position: relative;}#sk-container-id-1 div.sk-item {position: relative;z-index: 1;}#sk-container-id-1 div.sk-parallel {display: flex;align-items: stretch;justify-content: center;background-color: white;position: relative;}#sk-container-id-1 div.sk-item::before, #sk-container-id-1 div.sk-parallel-item::before {content: \"\";position: absolute;border-left: 1px solid gray;box-sizing: border-box;top: 0;bottom: 0;left: 50%;z-index: -1;}#sk-container-id-1 div.sk-parallel-item {display: flex;flex-direction: column;z-index: 1;position: relative;background-color: white;}#sk-container-id-1 div.sk-parallel-item:first-child::after {align-self: flex-end;width: 50%;}#sk-container-id-1 div.sk-parallel-item:last-child::after {align-self: flex-start;width: 50%;}#sk-container-id-1 div.sk-parallel-item:only-child::after {width: 0;}#sk-container-id-1 div.sk-dashed-wrapped {border: 1px dashed gray;margin: 0 0.4em 0.5em 0.4em;box-sizing: border-box;padding-bottom: 0.4em;background-color: white;}#sk-container-id-1 div.sk-label label {font-family: monospace;font-weight: bold;display: inline-block;line-height: 1.2em;}#sk-container-id-1 div.sk-label-container {text-align: center;}#sk-container-id-1 div.sk-container {/* jupyter's `normalize.less` sets `[hidden] { display: none; }` but bootstrap.min.css set `[hidden] { display: none !important; }` so we also need the `!important` here to be able to override the default hidden behavior on the sphinx rendered scikit-learn.org. See: https://github.com/scikit-learn/scikit-learn/issues/21755 */display: inline-block !important;position: relative;}#sk-container-id-1 div.sk-text-repr-fallback {display: none;}</style><div id=\"sk-container-id-1\" class=\"sk-top-container\"><div class=\"sk-text-repr-fallback\"><pre>Pipeline(steps=[(&#x27;OneHotEncoder&#x27;,\n",
       "                 ColumnTransformer(remainder=&#x27;passthrough&#x27;,\n",
       "                                   transformers=[(&#x27;onehotencoder&#x27;,\n",
       "                                                  OneHotEncoder(handle_unknown=&#x27;ignore&#x27;,\n",
       "                                                                sparse_output=False),\n",
       "                                                  [&#x27;Gender&#x27;,\n",
       "                                                   &#x27;family_history_with_overweight&#x27;,\n",
       "                                                   &#x27;FAVC&#x27;, &#x27;CAEC&#x27;, &#x27;SMOKE&#x27;,\n",
       "                                                   &#x27;SCC&#x27;, &#x27;CALC&#x27;, &#x27;MTRANS&#x27;])],\n",
       "                                   verbose_feature_names_out=False)),\n",
       "                (&#x27;Scaler&#x27;, StandardScaler()),\n",
       "                (&#x27;RF_model&#x27;,\n",
       "                 RandomForestClassifier(class_weight=&#x27;balanced&#x27;,\n",
       "                                        criterion=&#x27;log_loss&#x27;, max_depth=20,\n",
       "                                        min_samples_leaf=2, min_samples_split=6,\n",
       "                                        n_estimators=1000, random_state=42))])</pre><b>In a Jupyter environment, please rerun this cell to show the HTML representation or trust the notebook. <br />On GitHub, the HTML representation is unable to render, please try loading this page with nbviewer.org.</b></div><div class=\"sk-container\" hidden><div class=\"sk-item sk-dashed-wrapped\"><div class=\"sk-label-container\"><div class=\"sk-label sk-toggleable\"><input class=\"sk-toggleable__control sk-hidden--visually\" id=\"sk-estimator-id-1\" type=\"checkbox\" ><label for=\"sk-estimator-id-1\" class=\"sk-toggleable__label sk-toggleable__label-arrow\">Pipeline</label><div class=\"sk-toggleable__content\"><pre>Pipeline(steps=[(&#x27;OneHotEncoder&#x27;,\n",
       "                 ColumnTransformer(remainder=&#x27;passthrough&#x27;,\n",
       "                                   transformers=[(&#x27;onehotencoder&#x27;,\n",
       "                                                  OneHotEncoder(handle_unknown=&#x27;ignore&#x27;,\n",
       "                                                                sparse_output=False),\n",
       "                                                  [&#x27;Gender&#x27;,\n",
       "                                                   &#x27;family_history_with_overweight&#x27;,\n",
       "                                                   &#x27;FAVC&#x27;, &#x27;CAEC&#x27;, &#x27;SMOKE&#x27;,\n",
       "                                                   &#x27;SCC&#x27;, &#x27;CALC&#x27;, &#x27;MTRANS&#x27;])],\n",
       "                                   verbose_feature_names_out=False)),\n",
       "                (&#x27;Scaler&#x27;, StandardScaler()),\n",
       "                (&#x27;RF_model&#x27;,\n",
       "                 RandomForestClassifier(class_weight=&#x27;balanced&#x27;,\n",
       "                                        criterion=&#x27;log_loss&#x27;, max_depth=20,\n",
       "                                        min_samples_leaf=2, min_samples_split=6,\n",
       "                                        n_estimators=1000, random_state=42))])</pre></div></div></div><div class=\"sk-serial\"><div class=\"sk-item sk-dashed-wrapped\"><div class=\"sk-label-container\"><div class=\"sk-label sk-toggleable\"><input class=\"sk-toggleable__control sk-hidden--visually\" id=\"sk-estimator-id-2\" type=\"checkbox\" ><label for=\"sk-estimator-id-2\" class=\"sk-toggleable__label sk-toggleable__label-arrow\">OneHotEncoder: ColumnTransformer</label><div class=\"sk-toggleable__content\"><pre>ColumnTransformer(remainder=&#x27;passthrough&#x27;,\n",
       "                  transformers=[(&#x27;onehotencoder&#x27;,\n",
       "                                 OneHotEncoder(handle_unknown=&#x27;ignore&#x27;,\n",
       "                                               sparse_output=False),\n",
       "                                 [&#x27;Gender&#x27;, &#x27;family_history_with_overweight&#x27;,\n",
       "                                  &#x27;FAVC&#x27;, &#x27;CAEC&#x27;, &#x27;SMOKE&#x27;, &#x27;SCC&#x27;, &#x27;CALC&#x27;,\n",
       "                                  &#x27;MTRANS&#x27;])],\n",
       "                  verbose_feature_names_out=False)</pre></div></div></div><div class=\"sk-parallel\"><div class=\"sk-parallel-item\"><div class=\"sk-item\"><div class=\"sk-label-container\"><div class=\"sk-label sk-toggleable\"><input class=\"sk-toggleable__control sk-hidden--visually\" id=\"sk-estimator-id-3\" type=\"checkbox\" ><label for=\"sk-estimator-id-3\" class=\"sk-toggleable__label sk-toggleable__label-arrow\">onehotencoder</label><div class=\"sk-toggleable__content\"><pre>[&#x27;Gender&#x27;, &#x27;family_history_with_overweight&#x27;, &#x27;FAVC&#x27;, &#x27;CAEC&#x27;, &#x27;SMOKE&#x27;, &#x27;SCC&#x27;, &#x27;CALC&#x27;, &#x27;MTRANS&#x27;]</pre></div></div></div><div class=\"sk-serial\"><div class=\"sk-item\"><div class=\"sk-estimator sk-toggleable\"><input class=\"sk-toggleable__control sk-hidden--visually\" id=\"sk-estimator-id-4\" type=\"checkbox\" ><label for=\"sk-estimator-id-4\" class=\"sk-toggleable__label sk-toggleable__label-arrow\">OneHotEncoder</label><div class=\"sk-toggleable__content\"><pre>OneHotEncoder(handle_unknown=&#x27;ignore&#x27;, sparse_output=False)</pre></div></div></div></div></div></div><div class=\"sk-parallel-item\"><div class=\"sk-item\"><div class=\"sk-label-container\"><div class=\"sk-label sk-toggleable\"><input class=\"sk-toggleable__control sk-hidden--visually\" id=\"sk-estimator-id-5\" type=\"checkbox\" ><label for=\"sk-estimator-id-5\" class=\"sk-toggleable__label sk-toggleable__label-arrow\">remainder</label><div class=\"sk-toggleable__content\"><pre>[&#x27;Age&#x27;, &#x27;Height&#x27;, &#x27;Weight&#x27;, &#x27;FCVC&#x27;, &#x27;NCP&#x27;, &#x27;CH2O&#x27;, &#x27;FAF&#x27;, &#x27;TUE&#x27;]</pre></div></div></div><div class=\"sk-serial\"><div class=\"sk-item\"><div class=\"sk-estimator sk-toggleable\"><input class=\"sk-toggleable__control sk-hidden--visually\" id=\"sk-estimator-id-6\" type=\"checkbox\" ><label for=\"sk-estimator-id-6\" class=\"sk-toggleable__label sk-toggleable__label-arrow\">passthrough</label><div class=\"sk-toggleable__content\"><pre>passthrough</pre></div></div></div></div></div></div></div></div><div class=\"sk-item\"><div class=\"sk-estimator sk-toggleable\"><input class=\"sk-toggleable__control sk-hidden--visually\" id=\"sk-estimator-id-7\" type=\"checkbox\" ><label for=\"sk-estimator-id-7\" class=\"sk-toggleable__label sk-toggleable__label-arrow\">StandardScaler</label><div class=\"sk-toggleable__content\"><pre>StandardScaler()</pre></div></div></div><div class=\"sk-item\"><div class=\"sk-estimator sk-toggleable\"><input class=\"sk-toggleable__control sk-hidden--visually\" id=\"sk-estimator-id-8\" type=\"checkbox\" ><label for=\"sk-estimator-id-8\" class=\"sk-toggleable__label sk-toggleable__label-arrow\">RandomForestClassifier</label><div class=\"sk-toggleable__content\"><pre>RandomForestClassifier(class_weight=&#x27;balanced&#x27;, criterion=&#x27;log_loss&#x27;,\n",
       "                       max_depth=20, min_samples_leaf=2, min_samples_split=6,\n",
       "                       n_estimators=1000, random_state=42)</pre></div></div></div></div></div></div></div>"
      ],
      "text/plain": [
       "Pipeline(steps=[('OneHotEncoder',\n",
       "                 ColumnTransformer(remainder='passthrough',\n",
       "                                   transformers=[('onehotencoder',\n",
       "                                                  OneHotEncoder(handle_unknown='ignore',\n",
       "                                                                sparse_output=False),\n",
       "                                                  ['Gender',\n",
       "                                                   'family_history_with_overweight',\n",
       "                                                   'FAVC', 'CAEC', 'SMOKE',\n",
       "                                                   'SCC', 'CALC', 'MTRANS'])],\n",
       "                                   verbose_feature_names_out=False)),\n",
       "                ('Scaler', StandardScaler()),\n",
       "                ('RF_model',\n",
       "                 RandomForestClassifier(class_weight='balanced',\n",
       "                                        criterion='log_loss', max_depth=20,\n",
       "                                        min_samples_leaf=2, min_samples_split=6,\n",
       "                                        n_estimators=1000, random_state=42))])"
      ]
     },
     "execution_count": 16,
     "metadata": {},
     "output_type": "execute_result"
    }
   ],
   "source": [
    "operations = [\n",
    "    (\"OneHotEncoder\", column_trans),\n",
    "    ('Scaler', scaler),\n",
    "    (\"RF_model\", RandomForestClassifier(n_estimators=1000,\n",
    "        criterion='log_loss',\n",
    "        min_samples_leaf=2,\n",
    "        max_depth=20,\n",
    "        min_samples_split=6,\n",
    "        class_weight=\"balanced\", random_state=42))\n",
    "#         ('rf', RandomForestClassifier(n_estimators=344,criterion='log_loss',min_samples_leaf=2,max_depth=95, min_samples_split=6, random_state=42)),\n",
    "]\n",
    "\n",
    "pipe_model_rf = Pipeline(steps=operations)\n",
    "\n",
    "pipe_model_rf.fit(X_train, y_train)\n",
    "\n",
    "#     (\"RF_model\", RandomForestClassifier(max_depth=20, criterion='entropy',max_features=25,min_samples_split=20,n_estimators=1000,class_weight=\"balanced\", random_state=42)),\n"
   ]
  },
  {
   "cell_type": "code",
   "execution_count": 17,
   "id": "e8a83309",
   "metadata": {
    "execution": {
     "iopub.execute_input": "2024-02-25T06:26:12.239753Z",
     "iopub.status.busy": "2024-02-25T06:26:12.239023Z",
     "iopub.status.idle": "2024-02-25T06:26:13.055358Z",
     "shell.execute_reply": "2024-02-25T06:26:13.054304Z"
    },
    "papermill": {
     "duration": 0.829758,
     "end_time": "2024-02-25T06:26:13.058114",
     "exception": false,
     "start_time": "2024-02-25T06:26:12.228356",
     "status": "completed"
    },
    "tags": []
   },
   "outputs": [],
   "source": [
    "y_pred = pipe_model_rf.predict(X_val)"
   ]
  },
  {
   "cell_type": "code",
   "execution_count": 18,
   "id": "4f81262c",
   "metadata": {
    "execution": {
     "iopub.execute_input": "2024-02-25T06:26:13.076921Z",
     "iopub.status.busy": "2024-02-25T06:26:13.076499Z",
     "iopub.status.idle": "2024-02-25T06:26:13.208936Z",
     "shell.execute_reply": "2024-02-25T06:26:13.207616Z"
    },
    "papermill": {
     "duration": 0.144588,
     "end_time": "2024-02-25T06:26:13.211281",
     "exception": false,
     "start_time": "2024-02-25T06:26:13.066693",
     "status": "completed"
    },
    "tags": []
   },
   "outputs": [
    {
     "name": "stdout",
     "output_type": "stream",
     "text": [
      "                     precision    recall  f1-score   support\n",
      "\n",
      "Insufficient_Weight       0.92      0.94      0.93       505\n",
      "      Normal_Weight       0.86      0.86      0.86       617\n",
      "     Obesity_Type_I       0.89      0.89      0.89       582\n",
      "    Obesity_Type_II       0.96      0.97      0.97       650\n",
      "   Obesity_Type_III       1.00      1.00      1.00       809\n",
      " Overweight_Level_I       0.81      0.74      0.77       485\n",
      "Overweight_Level_II       0.78      0.83      0.80       504\n",
      "\n",
      "           accuracy                           0.90      4152\n",
      "          macro avg       0.89      0.89      0.89      4152\n",
      "       weighted avg       0.90      0.90      0.90      4152\n",
      "\n",
      "Validation Accuracy: 0.8990847784200385\n"
     ]
    }
   ],
   "source": [
    "# Print the performance metrics\n",
    "print(classification_report(y_val, y_pred))\n",
    "\n",
    "accuracy = accuracy_score(y_val, y_pred)\n",
    "print(f'Validation Accuracy: {accuracy}')"
   ]
  },
  {
   "cell_type": "markdown",
   "id": "4776286e",
   "metadata": {
    "papermill": {
     "duration": 0.00876,
     "end_time": "2024-02-25T06:26:13.228783",
     "exception": false,
     "start_time": "2024-02-25T06:26:13.220023",
     "status": "completed"
    },
    "tags": []
   },
   "source": [
    "# Here"
   ]
  },
  {
   "cell_type": "code",
   "execution_count": 19,
   "id": "40a95e7c",
   "metadata": {
    "execution": {
     "iopub.execute_input": "2024-02-25T06:26:13.248088Z",
     "iopub.status.busy": "2024-02-25T06:26:13.247695Z",
     "iopub.status.idle": "2024-02-25T06:26:13.252089Z",
     "shell.execute_reply": "2024-02-25T06:26:13.251044Z"
    },
    "papermill": {
     "duration": 0.01652,
     "end_time": "2024-02-25T06:26:13.254106",
     "exception": false,
     "start_time": "2024-02-25T06:26:13.237586",
     "status": "completed"
    },
    "tags": []
   },
   "outputs": [],
   "source": [
    "# Predict on the test set\n",
    "# test_predictions = pipe_model_rf.predict(test[num_cols + cat_cols])"
   ]
  },
  {
   "cell_type": "code",
   "execution_count": 20,
   "id": "30c4f7ef",
   "metadata": {
    "execution": {
     "iopub.execute_input": "2024-02-25T06:26:13.274117Z",
     "iopub.status.busy": "2024-02-25T06:26:13.273714Z",
     "iopub.status.idle": "2024-02-25T06:26:13.278188Z",
     "shell.execute_reply": "2024-02-25T06:26:13.276961Z"
    },
    "papermill": {
     "duration": 0.016838,
     "end_time": "2024-02-25T06:26:13.280092",
     "exception": false,
     "start_time": "2024-02-25T06:26:13.263254",
     "status": "completed"
    },
    "tags": []
   },
   "outputs": [],
   "source": [
    "# # Prepare a submission file\n",
    "# submission = pd.DataFrame({'id': test['id'], 'NObeyesdad': test_predictions})\n",
    "# submission.to_csv('submission.csv', index=False)"
   ]
  },
  {
   "cell_type": "code",
   "execution_count": 21,
   "id": "eb9f5d9b",
   "metadata": {
    "execution": {
     "iopub.execute_input": "2024-02-25T06:26:13.299070Z",
     "iopub.status.busy": "2024-02-25T06:26:13.298700Z",
     "iopub.status.idle": "2024-02-25T06:26:13.303030Z",
     "shell.execute_reply": "2024-02-25T06:26:13.302041Z"
    },
    "papermill": {
     "duration": 0.016468,
     "end_time": "2024-02-25T06:26:13.305208",
     "exception": false,
     "start_time": "2024-02-25T06:26:13.288740",
     "status": "completed"
    },
    "tags": []
   },
   "outputs": [],
   "source": [
    "# xg_operations = [\n",
    "#     (\"OneHotEncoder\", column_trans),\n",
    "#     ('Scaler', scaler),\n",
    "#     (\"XG_model\", XGBClassifier(max_depth=5, n_estimators=140, learning_rate=0.25, class_weight=\"balanced\", random_state=42)),\n",
    "# ]\n",
    "\n",
    "# pipe_model_xg = Pipeline(steps=xg_operations)\n",
    "\n",
    "\n",
    "# pipe_model_xg.fit(X_train, y_train)"
   ]
  },
  {
   "cell_type": "code",
   "execution_count": 22,
   "id": "d080efe9",
   "metadata": {
    "execution": {
     "iopub.execute_input": "2024-02-25T06:26:13.324354Z",
     "iopub.status.busy": "2024-02-25T06:26:13.323952Z",
     "iopub.status.idle": "2024-02-25T06:26:13.328767Z",
     "shell.execute_reply": "2024-02-25T06:26:13.327529Z"
    },
    "papermill": {
     "duration": 0.016572,
     "end_time": "2024-02-25T06:26:13.330665",
     "exception": false,
     "start_time": "2024-02-25T06:26:13.314093",
     "status": "completed"
    },
    "tags": []
   },
   "outputs": [],
   "source": [
    "# y_pred_xg = pipe_model_xg.predict(X_val)\n"
   ]
  },
  {
   "cell_type": "code",
   "execution_count": 23,
   "id": "69cd82f6",
   "metadata": {
    "execution": {
     "iopub.execute_input": "2024-02-25T06:26:13.350735Z",
     "iopub.status.busy": "2024-02-25T06:26:13.350321Z",
     "iopub.status.idle": "2024-02-25T06:26:13.354070Z",
     "shell.execute_reply": "2024-02-25T06:26:13.353177Z"
    },
    "papermill": {
     "duration": 0.015987,
     "end_time": "2024-02-25T06:26:13.355995",
     "exception": false,
     "start_time": "2024-02-25T06:26:13.340008",
     "status": "completed"
    },
    "tags": []
   },
   "outputs": [],
   "source": [
    "# # Print the performance metrics\n",
    "# print(classification_report(y_val, y_pred_xg))\n",
    "\n",
    "# accuracy = accuracy_score(y_val, y_pred_xg)\n",
    "# print(f'Validation Accuracy: {accuracy}')"
   ]
  },
  {
   "cell_type": "code",
   "execution_count": 24,
   "id": "aff14695",
   "metadata": {
    "execution": {
     "iopub.execute_input": "2024-02-25T06:26:13.376022Z",
     "iopub.status.busy": "2024-02-25T06:26:13.375295Z",
     "iopub.status.idle": "2024-02-25T06:26:13.379988Z",
     "shell.execute_reply": "2024-02-25T06:26:13.379004Z"
    },
    "papermill": {
     "duration": 0.017059,
     "end_time": "2024-02-25T06:26:13.381986",
     "exception": false,
     "start_time": "2024-02-25T06:26:13.364927",
     "status": "completed"
    },
    "tags": []
   },
   "outputs": [],
   "source": [
    "from sklearn.compose import ColumnTransformer\n",
    "preprocessor = ColumnTransformer(\n",
    "    transformers=[\n",
    "        ('num', scaler, num_cols),\n",
    "        ('cat', column_trans, cat_cols)\n",
    "    ])"
   ]
  },
  {
   "cell_type": "code",
   "execution_count": 25,
   "id": "44353bcc",
   "metadata": {
    "execution": {
     "iopub.execute_input": "2024-02-25T06:26:13.401419Z",
     "iopub.status.busy": "2024-02-25T06:26:13.401027Z",
     "iopub.status.idle": "2024-02-25T06:26:13.406514Z",
     "shell.execute_reply": "2024-02-25T06:26:13.405579Z"
    },
    "papermill": {
     "duration": 0.017702,
     "end_time": "2024-02-25T06:26:13.408660",
     "exception": false,
     "start_time": "2024-02-25T06:26:13.390958",
     "status": "completed"
    },
    "tags": []
   },
   "outputs": [],
   "source": [
    "# from xgboost import XGBClassifier\n",
    "# from lightgbm import LGBMClassifier\n",
    "# from catboost import CatBoostClassifier\n",
    "# from sklearn.ensemble import VotingClassifier\n",
    "# # Define the base models\n",
    "# model1 = Pipeline(steps=[\n",
    "#     ('preprocessor', preprocessor),\n",
    "#     ('classifier', XGBClassifier(max_depth=5,n_estimators=140, random_state=42))\n",
    "# ])\n",
    "\n",
    "# model2 = Pipeline(steps=[\n",
    "#     ('preprocessor', preprocessor),\n",
    "#     ('classifier', LGBMClassifier(max_depth=5,random_state=42))\n",
    "# ])\n",
    "\n",
    "# model3 = Pipeline(steps=[\n",
    "#     ('preprocessor', preprocessor),\n",
    "#     ('classifier', CatBoostClassifier(max_depth=5, random_state=42,verbose=False))  \n",
    "# ])\n",
    "\n",
    "# model4 = Pipeline(steps=[\n",
    "#     ('preprocessor', preprocessor),\n",
    "#     ('rf', RandomForestClassifier(n_estimators=1000,\n",
    "#         criterion='log_loss',\n",
    "#         min_samples_leaf=2,\n",
    "#         max_depth=5,\n",
    "#         min_samples_split=6,\n",
    "#         class_weight=\"balanced\", random_state=42))\n",
    "# ])\n",
    "# # Combine all models using soft voting\n",
    "# combined_model = VotingClassifier(\n",
    "#     estimators=[('xgb', model1), ('lgbm', model2), ('cat', model3), ('rf', model4)], \n",
    "#     voting='soft'\n",
    "# )\n",
    "\n",
    "# # Train the combined model\n",
    "# combined_model.fit(X_train, y_train)\n",
    "\n",
    "# # Validate the model\n",
    "# y_pred = combined_model.predict(X_val)\n",
    "\n",
    "# # Print the performance metrics\n",
    "# print(classification_report(y_val, y_pred))\n",
    "\n",
    "# accuracy = accuracy_score(y_val, y_pred)\n",
    "# print(f'Validation Accuracy: {accuracy}')\n",
    "\n"
   ]
  },
  {
   "cell_type": "code",
   "execution_count": 26,
   "id": "88a53fde",
   "metadata": {
    "execution": {
     "iopub.execute_input": "2024-02-25T06:26:13.427965Z",
     "iopub.status.busy": "2024-02-25T06:26:13.427618Z",
     "iopub.status.idle": "2024-02-25T06:26:38.933627Z",
     "shell.execute_reply": "2024-02-25T06:26:38.932059Z"
    },
    "papermill": {
     "duration": 25.518274,
     "end_time": "2024-02-25T06:26:38.935881",
     "exception": false,
     "start_time": "2024-02-25T06:26:13.417607",
     "status": "completed"
    },
    "tags": []
   },
   "outputs": [
    {
     "name": "stdout",
     "output_type": "stream",
     "text": [
      "[LightGBM] [Info] Auto-choosing row-wise multi-threading, the overhead of testing was 0.005629 seconds.\n",
      "You can set `force_row_wise=true` to remove the overhead.\n",
      "And if memory is not enough, you can set `force_col_wise=true`.\n",
      "[LightGBM] [Info] Total Bins 2042\n",
      "[LightGBM] [Info] Number of data points in the train set: 16606, number of used features: 30\n",
      "[LightGBM] [Info] Start training from score -2.107657\n",
      "[LightGBM] [Info] Start training from score -1.907572\n",
      "[LightGBM] [Info] Start training from score -1.964755\n",
      "[LightGBM] [Info] Start training from score -1.855022\n",
      "[LightGBM] [Info] Start training from score -1.635117\n",
      "[LightGBM] [Info] Start training from score -2.146046\n",
      "[LightGBM] [Info] Start training from score -2.107657\n",
      "                     precision    recall  f1-score   support\n",
      "\n",
      "Insufficient_Weight       0.94      0.95      0.95       505\n",
      "      Normal_Weight       0.88      0.90      0.89       617\n",
      "     Obesity_Type_I       0.88      0.89      0.89       582\n",
      "    Obesity_Type_II       0.97      0.97      0.97       650\n",
      "   Obesity_Type_III       1.00      1.00      1.00       809\n",
      " Overweight_Level_I       0.82      0.77      0.79       485\n",
      "Overweight_Level_II       0.81      0.81      0.81       504\n",
      "\n",
      "           accuracy                           0.91      4152\n",
      "          macro avg       0.90      0.90      0.90      4152\n",
      "       weighted avg       0.91      0.91      0.91      4152\n",
      "\n",
      "Validation Accuracy: 0.9096820809248555\n"
     ]
    }
   ],
   "source": [
    "from xgboost import XGBClassifier\n",
    "from lightgbm import LGBMClassifier\n",
    "from catboost import CatBoostClassifier\n",
    "from sklearn.ensemble import VotingClassifier\n",
    "# Define the base models\n",
    "model1 = Pipeline(steps=[\n",
    "    ('preprocessor', preprocessor),\n",
    "    ('classifier', XGBClassifier(max_depth=5, random_state=42))\n",
    "])\n",
    "\n",
    "model2 = Pipeline(steps=[\n",
    "    ('preprocessor', preprocessor),\n",
    "    ('classifier', LGBMClassifier(random_state=42))\n",
    "])\n",
    "\n",
    "model3 = Pipeline(steps=[\n",
    "    ('preprocessor', preprocessor),\n",
    "    ('classifier', CatBoostClassifier(random_state=42,verbose=False))  \n",
    "])\n",
    "\n",
    "model4 = Pipeline(steps=[\n",
    "    ('preprocessor', preprocessor),\n",
    "    ('rf', RandomForestClassifier(max_depth=5, random_state=42))\n",
    "])\n",
    "# Combine all models using soft voting\n",
    "combined_model = VotingClassifier(\n",
    "    estimators=[('xgb', model1), ('lgbm', model2), ('cat', model3), ('rf', model4)], \n",
    "    voting='soft'\n",
    ")\n",
    "\n",
    "# Train the combined model\n",
    "combined_model.fit(X_train, y_train)\n",
    "\n",
    "# Validate the model\n",
    "y_pred = combined_model.predict(X_val)\n",
    "\n",
    "# Print the performance metrics\n",
    "print(classification_report(y_val, y_pred))\n",
    "\n",
    "accuracy = accuracy_score(y_val, y_pred)\n",
    "print(f'Validation Accuracy: {accuracy}')\n",
    "\n"
   ]
  },
  {
   "cell_type": "code",
   "execution_count": 27,
   "id": "f6fd88b7",
   "metadata": {
    "execution": {
     "iopub.execute_input": "2024-02-25T06:26:38.955988Z",
     "iopub.status.busy": "2024-02-25T06:26:38.955524Z",
     "iopub.status.idle": "2024-02-25T06:26:40.425242Z",
     "shell.execute_reply": "2024-02-25T06:26:40.424154Z"
    },
    "papermill": {
     "duration": 1.482771,
     "end_time": "2024-02-25T06:26:40.427924",
     "exception": false,
     "start_time": "2024-02-25T06:26:38.945153",
     "status": "completed"
    },
    "tags": []
   },
   "outputs": [],
   "source": [
    "# Predict on the test set\n",
    "test_predictions = combined_model.predict(test[num_cols + cat_cols])\n",
    "\n",
    "\n",
    "\n",
    "# Prepare a submission file\n",
    "submission = pd.DataFrame({'id': test['id'], 'NObeyesdad': test_predictions})\n",
    "submission.to_csv('submission.csv', index=False)"
   ]
  },
  {
   "cell_type": "code",
   "execution_count": null,
   "id": "0fdaabf0",
   "metadata": {
    "papermill": {
     "duration": 0.008859,
     "end_time": "2024-02-25T06:26:40.445967",
     "exception": false,
     "start_time": "2024-02-25T06:26:40.437108",
     "status": "completed"
    },
    "tags": []
   },
   "outputs": [],
   "source": []
  }
 ],
 "metadata": {
  "kaggle": {
   "accelerator": "none",
   "dataSources": [
    {
     "databundleVersionId": 7609535,
     "sourceId": 68479,
     "sourceType": "competition"
    }
   ],
   "dockerImageVersionId": 30646,
   "isGpuEnabled": false,
   "isInternetEnabled": true,
   "language": "python",
   "sourceType": "notebook"
  },
  "kernelspec": {
   "display_name": "Python 3",
   "language": "python",
   "name": "python3"
  },
  "language_info": {
   "codemirror_mode": {
    "name": "ipython",
    "version": 3
   },
   "file_extension": ".py",
   "mimetype": "text/x-python",
   "name": "python",
   "nbconvert_exporter": "python",
   "pygments_lexer": "ipython3",
   "version": "3.10.13"
  },
  "papermill": {
   "default_parameters": {},
   "duration": 65.203927,
   "end_time": "2024-02-25T06:26:41.376706",
   "environment_variables": {},
   "exception": null,
   "input_path": "__notebook__.ipynb",
   "output_path": "__notebook__.ipynb",
   "parameters": {},
   "start_time": "2024-02-25T06:25:36.172779",
   "version": "2.5.0"
  }
 },
 "nbformat": 4,
 "nbformat_minor": 5
}
